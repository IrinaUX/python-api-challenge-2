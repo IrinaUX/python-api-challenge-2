{
 "cells": [
  {
   "cell_type": "code",
   "execution_count": 6,
   "metadata": {},
   "outputs": [],
   "source": [
    "# Dependencies\n",
    "import json\n",
    "import requests\n",
    "import matplotlib.pyplot as plt\n",
    "import pandas as pd\n",
    "from pprint import pprint\n",
    "from config import api_key\n",
    "import time\n",
    "from citipy import citipy"
   ]
  },
  {
   "cell_type": "code",
   "execution_count": 7,
   "metadata": {},
   "outputs": [],
   "source": [
    "output_dir = \"OutputData\""
   ]
  },
  {
   "cell_type": "code",
   "execution_count": 8,
   "metadata": {},
   "outputs": [
    {
     "name": "stdout",
     "output_type": "stream",
     "text": [
      "http://api.openweathermap.org/data/2.5/weather?q=Paris&appid=8d3fef753a916acc8df61a629cda8e70\n"
     ]
    }
   ],
   "source": [
    "url = \"http://api.openweathermap.org/data/2.5/weather?\"\n",
    "city = \"London\"\n",
    "units = \"metric\"\n",
    "\n",
    "# Build query URL\n",
    "url = \"http://api.openweathermap.org/data/2.5/weather?q=\"\n",
    "url2 = \"http://api.openweathermap.org/data/2.5/weather?q=Paris&appid=8d3fef753a916acc8df61a629cda8e70\"\n",
    "\n",
    "#query_url = url + \"appid=\" + api_key + \"&q=\" + city\n",
    "print(url2)"
   ]
  },
  {
   "cell_type": "code",
   "execution_count": null,
   "metadata": {},
   "outputs": [],
   "source": [
    "cities = [\"Paris\", \"London\", \"Oslo\", \"Beijing\"]\n",
    "query_url = url + cities[0] + \"&appid=\" + api_key\n",
    "print(query_url)\n",
    "\n",
    "# set up lists to hold reponse info\n",
    "lat = []\n",
    "temp = []\n",
    "response = requests.get(url + cities[0] + \"&appid=\" + api_key)\n",
    "print(response)"
   ]
  },
  {
   "cell_type": "code",
   "execution_count": 51,
   "metadata": {},
   "outputs": [
    {
     "name": "stdout",
     "output_type": "stream",
     "text": [
      "http://api.openweathermap.org/data/2.5/weather?q=Paris&appid=8d3fef753a916acc8df61a629cda8e70\n",
      "http://api.openweathermap.org/data/2.5/weather?q=London&appid=8d3fef753a916acc8df61a629cda8e70\n",
      "http://api.openweathermap.org/data/2.5/weather?q=Oslo&appid=8d3fef753a916acc8df61a629cda8e70\n",
      "http://api.openweathermap.org/data/2.5/weather?q=Beijing&appid=8d3fef753a916acc8df61a629cda8e70\n",
      "The latitude information received is: [48.85, 51.51, 59.91, 39.91, 48.85, 51.51, 59.91, 39.91, 48.85, 48.85, 48.85, 51.51, 59.91, 39.91, 48.85, 51.51, 59.91, 39.91]\n",
      "The temperature information received is: [289.22, 288.04, 294.32, 297.15, 289.22, 288.04, 294.32, 297.15]\n"
     ]
    }
   ],
   "source": [
    "# Convert response to json format\n",
    "response_json = response.json()\n",
    "\n",
    "# Pretty-print json data\n",
    "# pprint(response_json)\n",
    "\n",
    "# Loop through the list of cities and perform a request for data on each\n",
    "for city in cities:\n",
    "    url3 = (f\"{url}{city}&appid={api_key}\")\n",
    "#    print(url3)\n",
    "    response_json = requests.get(url3).json()\n",
    "    lat.append(response_json['coord']['lat'])\n",
    "    temp.append(response_json['main']['temp'])\n",
    "print(f\"The latitude information received is: {lat}\")\n",
    "print(f\"The temperature information received is: {temp}\")"
   ]
  },
  {
   "cell_type": "code",
   "execution_count": null,
   "metadata": {},
   "outputs": [],
   "source": []
  },
  {
   "cell_type": "code",
   "execution_count": 13,
   "metadata": {},
   "outputs": [
    {
     "name": "stdout",
     "output_type": "stream",
     "text": [
      "The weather API responded with: {'coord': {'lon': 2.35, 'lat': 48.85}, 'weather': [{'id': 500, 'main': 'Rain', 'description': 'light rain', 'icon': '10d'}], 'base': 'stations', 'main': {'temp': 291.43, 'feels_like': 287.66, 'temp_min': 289.15, 'temp_max': 293.71, 'pressure': 1005, 'humidity': 55}, 'visibility': 10000, 'wind': {'speed': 5.1, 'deg': 120}, 'rain': {'1h': 0.68}, 'clouds': {'all': 100}, 'dt': 1591901269, 'sys': {'type': 1, 'id': 6550, 'country': 'FR', 'sunrise': 1591847227, 'sunset': 1591905223}, 'timezone': 7200, 'id': 2988507, 'name': 'Paris', 'cod': 200}.\n"
     ]
    }
   ],
   "source": [
    "# Get weather data\n",
    "weather_response = requests.get(query_url)\n",
    "weather_json = weather_response.json()\n",
    "\n",
    "# Get the temperature from the response\n",
    "print(f\"The weather API responded with: {weather_json}.\")"
   ]
  },
  {
   "cell_type": "code",
   "execution_count": null,
   "metadata": {},
   "outputs": [],
   "source": []
  }
 ],
 "metadata": {
  "kernelspec": {
   "display_name": "Python [conda env:PythonData] *",
   "language": "python",
   "name": "conda-env-PythonData-py"
  },
  "language_info": {
   "codemirror_mode": {
    "name": "ipython",
    "version": 3
   },
   "file_extension": ".py",
   "mimetype": "text/x-python",
   "name": "python",
   "nbconvert_exporter": "python",
   "pygments_lexer": "ipython3",
   "version": "3.8.3"
  }
 },
 "nbformat": 4,
 "nbformat_minor": 4
}

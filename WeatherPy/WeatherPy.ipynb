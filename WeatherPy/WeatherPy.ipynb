{
 "cells": [
  {
   "cell_type": "code",
   "execution_count": 63,
   "metadata": {},
   "outputs": [],
   "source": [
    "# Dependencies\n",
    "import json\n",
    "import requests\n",
    "import matplotlib.pyplot as plt\n",
    "import pandas as pd\n",
    "import numpy as np\n",
    "from pprint import pprint\n",
    "from config import api_key\n",
    "import time\n",
    "from citipy import citipy"
   ]
  },
  {
   "cell_type": "code",
   "execution_count": 64,
   "metadata": {},
   "outputs": [],
   "source": [
    "output_dir = \"OutputData\""
   ]
  },
  {
   "cell_type": "code",
   "execution_count": 65,
   "metadata": {},
   "outputs": [],
   "source": [
    "# Build base url\n",
    "url = \"http://api.openweathermap.org/data/2.5/weather?\"\n",
    "cities_list = [\"Paris\", \"London\", \"Oslo\", \"Beijing\"]\n",
    "units = \"metric\"\n",
    "\n",
    "# Build query URL\n",
    "url = \"http://api.openweathermap.org/data/2.5/weather?q=\"\n",
    "url2 = \"http://api.openweathermap.org/data/2.5/weather?q=Paris&appid=8d3fef753a916acc8df61a629cda8e70\""
   ]
  },
  {
   "cell_type": "code",
   "execution_count": 66,
   "metadata": {},
   "outputs": [
    {
     "name": "stdout",
     "output_type": "stream",
     "text": [
      "http://api.openweathermap.org/data/2.5/weather?q=Paris&appid=8d3fef753a916acc8df61a629cda8e70\n",
      "http://api.openweathermap.org/data/2.5/weather?q=London&appid=8d3fef753a916acc8df61a629cda8e70\n",
      "http://api.openweathermap.org/data/2.5/weather?q=Oslo&appid=8d3fef753a916acc8df61a629cda8e70\n",
      "http://api.openweathermap.org/data/2.5/weather?q=Beijing&appid=8d3fef753a916acc8df61a629cda8e70\n",
      "The latitude information received is: [48.85, 51.51, 59.91, 39.91]\n",
      "The temperature information received is: [288.62, 287.64, 293.91, 297.33]\n"
     ]
    }
   ],
   "source": [
    "query_url = url + cities_list[0] + \"&appid=\" + api_key\n",
    "\n",
    "# set up lists to hold reponse info\n",
    "lat = []\n",
    "temp = []\n",
    "\n",
    "# Convert response to json format\n",
    "response = requests.get(url + cities_list[0] + \"&appid=\" + api_key)\n",
    "response_json = response.json()\n",
    "\n",
    "# Loop through the list of cities and perform a request for data on each\n",
    "for city in cities_list:\n",
    "    url3 = (f\"{url}{city}&appid={api_key}\")\n",
    "    print(url3)\n",
    "    response_json = requests.get(url3).json()\n",
    "    lat.append(response_json['coord']['lat'])\n",
    "    temp.append(response_json['main']['temp'])\n",
    "print(f\"The latitude information received is: {lat}\")\n",
    "print(f\"The temperature information received is: {temp}\")"
   ]
  },
  {
   "cell_type": "code",
   "execution_count": 74,
   "metadata": {},
   "outputs": [
    {
     "data": {
      "text/plain": [
       "621"
      ]
     },
     "execution_count": 74,
     "metadata": {},
     "output_type": "execute_result"
    }
   ],
   "source": [
    "# Create a list to hold variables:\n",
    "lats = []\n",
    "cities = []\n",
    "\n",
    "# Generate a list of cities using a random function up to 1500 in size for scanning\n",
    "# Note: larger number of cities can be obtained with larger size, however for this task only about 500 are required\n",
    "lats = np.random.uniform(low=-90.000, high=90.000, size=1500)\n",
    "lngs = np.random.uniform(low=-180.000, high=180.000, size=1500)\n",
    "lat_lngs = zip(lats, lngs)\n",
    "\n",
    "# Use nearest_city method to find the city name\n",
    "for lat_lng in lat_lngs:\n",
    "    city = citipy.nearest_city(lat_lng[0], lat_lng[1]).city_name\n",
    "    \n",
    "    # If the city is unique, then add it to a our cities list\n",
    "    if city not in cities:\n",
    "        cities.append(city)\n",
    "\n",
    "# Print the city count to confirm sufficient count\n",
    "len(cities)"
   ]
  },
  {
   "cell_type": "code",
   "execution_count": null,
   "metadata": {},
   "outputs": [],
   "source": []
  },
  {
   "cell_type": "code",
   "execution_count": null,
   "metadata": {},
   "outputs": [],
   "source": []
  },
  {
   "cell_type": "code",
   "execution_count": 73,
   "metadata": {},
   "outputs": [
    {
     "data": {
      "text/plain": [
       "(2928, 2959, 2984)"
      ]
     },
     "execution_count": 73,
     "metadata": {},
     "output_type": "execute_result"
    }
   ],
   "source": [
    "2928, 2959, 2984"
   ]
  },
  {
   "cell_type": "code",
   "execution_count": null,
   "metadata": {},
   "outputs": [],
   "source": []
  }
 ],
 "metadata": {
  "kernelspec": {
   "display_name": "Python [conda env:PythonData] *",
   "language": "python",
   "name": "conda-env-PythonData-py"
  },
  "language_info": {
   "codemirror_mode": {
    "name": "ipython",
    "version": 3
   },
   "file_extension": ".py",
   "mimetype": "text/x-python",
   "name": "python",
   "nbconvert_exporter": "python",
   "pygments_lexer": "ipython3",
   "version": "3.8.3"
  }
 },
 "nbformat": 4,
 "nbformat_minor": 4
}

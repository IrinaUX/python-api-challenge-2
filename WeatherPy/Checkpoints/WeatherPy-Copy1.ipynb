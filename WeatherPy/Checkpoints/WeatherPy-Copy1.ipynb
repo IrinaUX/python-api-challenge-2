{
 "cells": [
  {
   "cell_type": "code",
   "execution_count": 9,
   "metadata": {},
   "outputs": [],
   "source": [
    "# Dependencies\n",
    "import os\n",
    "import csv\n",
    "import json\n",
    "import time\n",
    "import requests\n",
    "import pandas as pd\n",
    "import numpy as np\n",
    "from pprint import pprint\n",
    "from config import api_key\n",
    "from citipy import citipy\n",
    "import matplotlib.pyplot as plt\n",
    "\n",
    "output_dir = os.path.join(\"Images\",\"\")"
   ]
  },
  {
   "cell_type": "code",
   "execution_count": 11,
   "metadata": {},
   "outputs": [
    {
     "name": "stdout",
     "output_type": "stream",
     "text": [
      "First five are listed here: ['bredasdorp', 'arraial do cabo', 'barentsburg', 'linares', 'tasiilaq']...\n",
      "There are 500 cities in the list.\n"
     ]
    }
   ],
   "source": [
    "## Create latitudes and cities lists variables and initialize them as empty lists\n",
    "cities = []\n",
    "# Generate a list of cities using a random function up to 1500 in size for scanning\n",
    "# Note: larger number of cities can be obtained with larger size, however for this task only about 500 are required\n",
    "latitude = np.random.uniform(low=-90.000, high=90.000, size=1500)\n",
    "longitude = np.random.uniform(low=-180.000, high=180.000, size=1500)\n",
    "\n",
    "latitudes_longitudes = zip(latitude, longitude)\n",
    "count_cities_500 = 0\n",
    "for latitude_longitude in latitudes_longitudes:\n",
    "    city = citipy.nearest_city(latitude_longitude[0], latitude_longitude[1]).city_name\n",
    "    # If city is not in cities, then append the city to the cities' list. Limit the city list to 500\n",
    "    if city not in cities:\n",
    "        if count_cities_500 < 500:\n",
    "            cities.append(city)\n",
    "            count_cities_500 += 1\n",
    "        else:\n",
    "            break\n",
    "    else:\n",
    "        continue\n",
    "print(f\"First five are listed here: {cities[:5]}...\")\n",
    "print(f\"There are {len(cities)} cities in the list.\")"
   ]
  },
  {
   "cell_type": "code",
   "execution_count": 24,
   "metadata": {},
   "outputs": [
    {
     "name": "stdout",
     "output_type": "stream",
     "text": [
      "http://api.openweathermap.org/data/2.5/weather?q=bredasdorp&appid=8d3fef753a916acc8df61a629cda8e70\n",
      "289.15\n",
      "http://api.openweathermap.org/data/2.5/weather?q=arraial do cabo&appid=8d3fef753a916acc8df61a629cda8e70\n",
      "301.15\n",
      "http://api.openweathermap.org/data/2.5/weather?q=barentsburg&appid=8d3fef753a916acc8df61a629cda8e70\n",
      "City 'Barentsburg' was not found.\n",
      "http://api.openweathermap.org/data/2.5/weather?q=linares&appid=8d3fef753a916acc8df61a629cda8e70\n",
      "283.83\n",
      "http://api.openweathermap.org/data/2.5/weather?q=tasiilaq&appid=8d3fef753a916acc8df61a629cda8e70\n",
      "277.15\n"
     ]
    }
   ],
   "source": [
    "# url for weather api\n",
    "units = 'english'\n",
    "url = \"http://api.openweathermap.org/data/2.5/weather?q=\"\n",
    "city_5_list = cities[:5]\n",
    "for city in city_5_list:\n",
    "    try:\n",
    "        query_test_url = f\"http://api.openweathermap.org/data/2.5/weather?q={city}&appid={api_key}\"\n",
    "        print(query_test_url)\n",
    "        response = requests.get(query_test_url).json()\n",
    "        #print(response)\n",
    "        temp_test = response[\"main\"][\"temp\"]\n",
    "        print(temp_test)\n",
    "    except KeyError:\n",
    "        print(f\"City '{city.capitalize()}' was not found.\")"
   ]
  },
  {
   "cell_type": "code",
   "execution_count": null,
   "metadata": {},
   "outputs": [],
   "source": []
  },
  {
   "cell_type": "code",
   "execution_count": null,
   "metadata": {},
   "outputs": [],
   "source": [
    "# README - Your first requirement is \n",
    "    # to create a series of scatter plots to showcase the following relationships:\n",
    "# * Temperature (F) vs. Latitude\n",
    "# * Humidity (%) vs. Latitude\n",
    "# * Cloudiness (%) vs. Latitude\n",
    "# * Wind Speed (mph) vs. Latitude\n",
    "\n",
    "# Create an starter df\n",
    "df = pd.DataFrame({'Temperature (F)': })"
   ]
  },
  {
   "cell_type": "code",
   "execution_count": null,
   "metadata": {},
   "outputs": [],
   "source": [
    "temperaturesF = []\n",
    "latitudes = []\n",
    "longitudes = []\n",
    "humiditiesPerc = []\n",
    "cloudinessPerc = []\n",
    "windspeedsMPH = []\n",
    "max_temperatures = []\n",
    "countries = []\n",
    "dates = []\n",
    "city_two = []\n",
    "\n",
    "# Create data array from cities list\n",
    "city_weather = []\n",
    "store_index  = []\n",
    "store_cityName = []\n",
    "store_city_not_found = []\n",
    "count_city_not_found = 0  # count number of cities not found\n",
    "\n",
    "# transform cities into datframe for the progress bar\n",
    "cities_df = pd.DataFrame(cities, columns=['City'])\n",
    "\n",
    "# Run API calls to get the data for scatter plots as defined in parameters above:\n",
    "\n",
    "# # set initial count quantities for organization\n",
    "count_one = 0\n",
    "set_one = 1\n",
    "\n",
    "# loops for creating dataframe columns\n",
    "for city in cities:\n",
    "    \n",
    "    try:\n",
    "        url4 = (f\"{url}{city}&appid={api_key}\")\n",
    "        print(url4)\n",
    "        response = requests.get(url4).json()\n",
    "        temperaturesF.append(response['main']['temp'])\n",
    "    except Exception:\n",
    "        print(\"City not found. Skipping...\")\n",
    "\n",
    "#     cloudinessPerc.append(response['clouds']['all'])\n",
    "#     countries.append(response['sys']['country'])\n",
    "#     dates.append(response['dt'])\n",
    "#     humiditiesPerc.append(response['main']['humidity'])\n",
    "#     latitudes.append(response['coord']['lat'])\n",
    "#     longitudes.append(response['coord']['lon'])\n",
    "#     max_temperatures.append(response['main']['temp_max'])\n",
    "#     windspeedsMPH.append(response['wind']['speed'])\n",
    "#     if count_one > 48:\n",
    "#         count_one = 1\n",
    "#         set_one += 1\n",
    "#         city_two.append(city)\n",
    "#     else:\n",
    "#         count_one += 1\n",
    "#         city_two.append(city)\n",
    "#     print(f\"Processing Record {count_one} of Set {set_one} | {city}\")\n",
    "#     except Exception:\n",
    "# print(\"City not found. Skipping...\")\n",
    "# print(\"------------------------------\\nData Retrieval Complete\\n------------------------------\")"
   ]
  },
  {
   "cell_type": "code",
   "execution_count": null,
   "metadata": {},
   "outputs": [],
   "source": []
  },
  {
   "cell_type": "code",
   "execution_count": null,
   "metadata": {},
   "outputs": [],
   "source": []
  },
  {
   "cell_type": "code",
   "execution_count": null,
   "metadata": {},
   "outputs": [],
   "source": []
  },
  {
   "cell_type": "code",
   "execution_count": null,
   "metadata": {},
   "outputs": [],
   "source": []
  },
  {
   "cell_type": "code",
   "execution_count": null,
   "metadata": {},
   "outputs": [],
   "source": []
  },
  {
   "cell_type": "code",
   "execution_count": null,
   "metadata": {},
   "outputs": [],
   "source": [
    "temp_df = pd.DataFrame({'Cities': (cities),\n",
    "                        'Temperature, DegF': temperaturesF})\n",
    "temp_df.head()"
   ]
  },
  {
   "cell_type": "code",
   "execution_count": null,
   "metadata": {},
   "outputs": [],
   "source": []
  },
  {
   "cell_type": "code",
   "execution_count": null,
   "metadata": {},
   "outputs": [],
   "source": []
  },
  {
   "cell_type": "code",
   "execution_count": null,
   "metadata": {},
   "outputs": [],
   "source": []
  },
  {
   "cell_type": "code",
   "execution_count": null,
   "metadata": {},
   "outputs": [],
   "source": []
  }
 ],
 "metadata": {
  "kernelspec": {
   "display_name": "Python [conda env:PythonData] *",
   "language": "python",
   "name": "conda-env-PythonData-py"
  },
  "language_info": {
   "codemirror_mode": {
    "name": "ipython",
    "version": 3
   },
   "file_extension": ".py",
   "mimetype": "text/x-python",
   "name": "python",
   "nbconvert_exporter": "python",
   "pygments_lexer": "ipython3",
   "version": "3.8.3"
  }
 },
 "nbformat": 4,
 "nbformat_minor": 4
}

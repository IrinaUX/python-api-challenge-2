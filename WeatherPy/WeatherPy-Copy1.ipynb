{
 "cells": [
  {
   "cell_type": "code",
   "execution_count": 8,
   "metadata": {},
   "outputs": [],
   "source": [
    "# Dependencies\n",
    "import os\n",
    "import csv\n",
    "import json\n",
    "import time\n",
    "import requests\n",
    "import pandas as pd\n",
    "import numpy as np\n",
    "from pprint import pprint\n",
    "from config import api_key\n",
    "from citipy import citipy\n",
    "import matplotlib.pyplot as plt"
   ]
  },
  {
   "cell_type": "code",
   "execution_count": 11,
   "metadata": {},
   "outputs": [
    {
     "data": {
      "text/plain": [
       "592"
      ]
     },
     "execution_count": 11,
     "metadata": {},
     "output_type": "execute_result"
    }
   ],
   "source": [
    "## Create latitudes and cities lists variables and initialize them as empty lists\n",
    "# latitudes = []\n",
    "cities = []\n",
    "\n",
    "# Generate a list of cities using a random function up to 1500 in size for scanning\n",
    "# Note: larger number of cities can be obtained with larger size, however for this task only about 500 are required\n",
    "#cities_count = 0\n",
    "latitude = np.random.uniform(low=-90.000, high=90.000, size=1500)\n",
    "longitude = np.random.uniform(low=-180.000, high=180.000, size=1500)\n",
    "latitudes_longitudes = zip(latitude, longitude)\n",
    "# print(latitudes_longitudes)\n",
    "# Use nearest_city method to find the city name\n",
    "for latitude_longitude in latitudes_longitudes:\n",
    "    city = citipy.nearest_city(latitude_longitude[0], latitude_longitude[1]).city_name\n",
    "    \n",
    "    # If city is not in cities, then append the city to the cities' list\n",
    "    if city not in cities:\n",
    "        cities.append(city)\n",
    "\n",
    "# Print the city count to confirm sufficient count\n",
    "len(cities)\n",
    "#cities[:5]"
   ]
  },
  {
   "cell_type": "code",
   "execution_count": 9,
   "metadata": {},
   "outputs": [],
   "source": [
    "output_dir = os.path.join(\"Images\",\"\")\n",
    "# Save config information.\n",
    "url = \"http://api.openweathermap.org/data/2.5/weather?q=\"\n",
    "# units = \"metric\"\n",
    "# base_url = \"http://api.openweathermap.org/data/2.5/weather?q={city name}&appid={your api key}\"\n",
    "# Build partial query URL\n",
    "#query_url = f\"{url}&units={units}&q=\"\n"
   ]
  },
  {
   "cell_type": "code",
   "execution_count": null,
   "metadata": {},
   "outputs": [],
   "source": [
    "# README - Your first requirement is \n",
    "    # to create a series of scatter plots to showcase the following relationships:\n",
    "temperaturesF = []\n",
    "latitudes = []\n",
    "longitudes = []\n",
    "humiditiesPerc = []\n",
    "cloudinessPerc = []\n",
    "windspeedsMPH = []\n",
    "max_temperatures = []\n",
    "countries = []\n",
    "dates = []\n",
    "city_two = []\n",
    "# * Temperature (F) vs. Latitude\n",
    "# * Humidity (%) vs. Latitude\n",
    "# * Cloudiness (%) vs. Latitude\n",
    "# * Wind Speed (mph) vs. Latitude\n",
    "\n",
    "# Create data array from cities list\n",
    "city_weather = []\n",
    "store_index  = []\n",
    "store_cityName = []\n",
    "store_city_not_found = []\n",
    "count_city_not_found = 0  # count number of cities not found\n",
    "\n",
    "# transform cities into datframe for the progress bar\n",
    "cities_df = pd.DataFrame(cities, columns=['City'])\n",
    "\n",
    "# Run API calls to get the data for scatter plots as defined in parameters above:\n",
    "\n",
    "# # set initial count quantities for organization\n",
    "count_one = 0\n",
    "set_one = 1\n",
    "\n",
    "# loops for creating dataframe columns\n",
    "for city in cities:\n",
    "    \n",
    "    try:\n",
    "        url4 = (f\"{url}{city}&appid={api_key}\")\n",
    "        print(url4)\n",
    "        response = requests.get(url4).json()\n",
    "        temperaturesF.append(response['main']['temp'])\n",
    "    except Exception:\n",
    "        print(\"City not found. Skipping...\")\n",
    "\n",
    "#     cloudinessPerc.append(response['clouds']['all'])\n",
    "#     countries.append(response['sys']['country'])\n",
    "#     dates.append(response['dt'])\n",
    "#     humiditiesPerc.append(response['main']['humidity'])\n",
    "#     latitudes.append(response['coord']['lat'])\n",
    "#     longitudes.append(response['coord']['lon'])\n",
    "#     max_temperatures.append(response['main']['temp_max'])\n",
    "#     windspeedsMPH.append(response['wind']['speed'])\n",
    "#     if count_one > 48:\n",
    "#         count_one = 1\n",
    "#         set_one += 1\n",
    "#         city_two.append(city)\n",
    "#     else:\n",
    "#         count_one += 1\n",
    "#         city_two.append(city)\n",
    "#     print(f\"Processing Record {count_one} of Set {set_one} | {city}\")\n",
    "#     except Exception:\n",
    "# print(\"City not found. Skipping...\")\n",
    "# print(\"------------------------------\\nData Retrieval Complete\\n------------------------------\")"
   ]
  },
  {
   "cell_type": "code",
   "execution_count": null,
   "metadata": {},
   "outputs": [],
   "source": []
  },
  {
   "cell_type": "code",
   "execution_count": null,
   "metadata": {},
   "outputs": [],
   "source": []
  },
  {
   "cell_type": "code",
   "execution_count": null,
   "metadata": {},
   "outputs": [],
   "source": []
  },
  {
   "cell_type": "code",
   "execution_count": null,
   "metadata": {},
   "outputs": [],
   "source": []
  },
  {
   "cell_type": "code",
   "execution_count": null,
   "metadata": {},
   "outputs": [],
   "source": []
  },
  {
   "cell_type": "code",
   "execution_count": null,
   "metadata": {},
   "outputs": [],
   "source": [
    "temp_df = pd.DataFrame({'Cities': (cities),\n",
    "                        'Temperature, DegF': temperaturesF})\n",
    "temp_df.head()"
   ]
  },
  {
   "cell_type": "code",
   "execution_count": null,
   "metadata": {},
   "outputs": [],
   "source": []
  },
  {
   "cell_type": "code",
   "execution_count": null,
   "metadata": {},
   "outputs": [],
   "source": []
  },
  {
   "cell_type": "code",
   "execution_count": null,
   "metadata": {},
   "outputs": [],
   "source": []
  },
  {
   "cell_type": "code",
   "execution_count": null,
   "metadata": {},
   "outputs": [],
   "source": []
  }
 ],
 "metadata": {
  "kernelspec": {
   "display_name": "Python [conda env:PythonData] *",
   "language": "python",
   "name": "conda-env-PythonData-py"
  },
  "language_info": {
   "codemirror_mode": {
    "name": "ipython",
    "version": 3
   },
   "file_extension": ".py",
   "mimetype": "text/x-python",
   "name": "python",
   "nbconvert_exporter": "python",
   "pygments_lexer": "ipython3",
   "version": "3.8.3"
  }
 },
 "nbformat": 4,
 "nbformat_minor": 4
}

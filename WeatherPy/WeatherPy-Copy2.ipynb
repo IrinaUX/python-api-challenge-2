{
 "cells": [
  {
   "cell_type": "code",
   "execution_count": 73,
   "metadata": {},
   "outputs": [],
   "source": [
    "# Dependencies\n",
    "import os\n",
    "import csv\n",
    "import json\n",
    "import time\n",
    "import requests\n",
    "import pandas as pd\n",
    "import numpy as np\n",
    "import scipy.stats as sts\n",
    "from pprint import pprint\n",
    "from config import api_key\n",
    "from citipy import citipy\n",
    "import matplotlib.pyplot as plt\n",
    "\n",
    "output_dir = os.path.join(\"Images\",\"\")"
   ]
  },
  {
   "cell_type": "code",
   "execution_count": 41,
   "metadata": {},
   "outputs": [
    {
     "name": "stdout",
     "output_type": "stream",
     "text": [
      "First five are listed here: ['mys shmidta', 'nikolskoye', 'kaitangata', 'karakose', 'arraial do cabo']...\n",
      "There are 500 cities in the list.\n"
     ]
    }
   ],
   "source": [
    "## Create latitudes and cities lists variables and initialize them as empty lists\n",
    "cities = []\n",
    "# Generate a list of cities using a random function up to 1500 in size for scanning\n",
    "# Note: larger number of cities can be obtained with larger size, however for this task only about 500 are required\n",
    "latitude = np.random.uniform(low=-90.000, high=90.000, size=2000)\n",
    "longitude = np.random.uniform(low=-180.000, high=180.000, size=2000)\n",
    "\n",
    "latitudes_longitudes = zip(latitude, longitude)\n",
    "count_cities_500 = 0\n",
    "for latitude_longitude in latitudes_longitudes:\n",
    "    city = citipy.nearest_city(latitude_longitude[0], latitude_longitude[1]).city_name\n",
    "    # If city is not in cities, then append the city to the cities' list. Limit the city list to 500\n",
    "    if city not in cities:\n",
    "        if count_cities_500 < 500:\n",
    "            cities.append(city)\n",
    "            count_cities_500 += 1\n",
    "        else:\n",
    "            break\n",
    "    else:\n",
    "        continue\n",
    "print(f\"First five are listed here: {cities[:5]}...\")\n",
    "print(f\"There are {len(cities)} cities in the list.\")"
   ]
  },
  {
   "cell_type": "code",
   "execution_count": 50,
   "metadata": {},
   "outputs": [
    {
     "name": "stdout",
     "output_type": "stream",
     "text": [
      "City 'Mys shmidta' was not found.\n",
      "City 'Karakose' was not found.\n",
      "City 'Ust-kamchatsk' was not found.\n",
      "City 'Attawapiskat' was not found.\n",
      "City 'Nizhneyansk' was not found.\n",
      "City 'Taolanaro' was not found.\n",
      "City 'Khomeynishahr' was not found.\n",
      "City 'Illoqqortoormiut' was not found.\n",
      "Reset counter\n",
      "City 'Marcona' was not found.\n",
      "City 'Tumannyy' was not found.\n",
      "City 'Belushya guba' was not found.\n",
      "Reset counter\n",
      "City 'Shchelyayur' was not found.\n",
      "City 'Toliary' was not found.\n",
      "City 'Tabiauea' was not found.\n",
      "City 'Kapustin yar-1' was not found.\n",
      "City 'Barentsburg' was not found.\n",
      "Reset counter\n",
      "City 'Amderma' was not found.\n",
      "City 'Jabiru' was not found.\n",
      "City 'Tabialan' was not found.\n",
      "City 'Karauzyak' was not found.\n",
      "City 'Ciras' was not found.\n",
      "Reset counter\n",
      "City 'Solsvik' was not found.\n",
      "City 'Halalo' was not found.\n",
      "City 'Talawdi' was not found.\n",
      "City 'Duz' was not found.\n",
      "City 'Sentyabrskiy' was not found.\n",
      "City 'Xiangdong' was not found.\n",
      "Reset counter\n",
      "City 'Palabuhanratu' was not found.\n",
      "City 'Tuggurt' was not found.\n",
      "City 'Tsihombe' was not found.\n",
      "Reset counter\n",
      "City 'Qabis' was not found.\n",
      "City 'Samusu' was not found.\n",
      "Reset counter\n",
      "City 'Grand river south east' was not found.\n",
      "City 'Saleaula' was not found.\n",
      "City 'Rungata' was not found.\n",
      "City 'Papasquiaro' was not found.\n",
      "Reset counter\n",
      "City 'Ruatoria' was not found.\n",
      "City 'Samalaeulu' was not found.\n",
      "City 'Abiy adi' was not found.\n",
      "City 'Galgani' was not found.\n",
      "Reset counter\n",
      "[5.8, 7.7, 4.1, 1]\n"
     ]
    }
   ],
   "source": [
    "# url for weather api\n",
    "units = 'english'\n",
    "url   = \"http://api.openweathermap.org/data/2.5/weather?q=\"\n",
    "url2  = \"http://api.openweathermap.org/data/2.5/group?id=524901,703448,2643743&units=metric\"\n",
    "city_5_list = cities[:5]\n",
    "city_list   = []\n",
    "temp_list   = []\n",
    "lat_list    = []\n",
    "long_list   = []\n",
    "humid_list  = []\n",
    "cloud_list  = []\n",
    "wind_list   = []\n",
    "counter     = 0\n",
    "\n",
    "for city in cities:\n",
    "    try:\n",
    "        if counter < 49:\n",
    "            query_test_url = f\"http://api.openweathermap.org/data/2.5/weather?q={city}&appid={api_key}\"\n",
    "            #print(query_test_url)\n",
    "            response = requests.get(query_test_url).json()\n",
    "            #print(response)\n",
    "            city_list.append(response[\"name\"])\n",
    "            temp_list.append(response[\"main\"][\"temp\"])\n",
    "            lat_list.append(response[\"coord\"][\"lat\"])\n",
    "            long_list.append(response[\"coord\"][\"lon\"])\n",
    "            humid_list.append(response[\"main\"][\"humidity\"])\n",
    "            cloud_list.append(response[\"clouds\"][\"all\"])\n",
    "            wind_list.append(response[\"wind\"][\"speed\"])\n",
    "            counter = counter + 1\n",
    "        else:\n",
    "            counter = 0\n",
    "            print(f\"Reset counter\")\n",
    "            continue\n",
    "#         if counter > 50:\n",
    "#             counter = 1\n",
    "#         else:\n",
    "#             counter += 1\n",
    "    except KeyError:\n",
    "        print(f\"City '{city.capitalize()}' was not found.\")\n",
    "print(wnd_list)"
   ]
  },
  {
   "cell_type": "code",
   "execution_count": 91,
   "metadata": {},
   "outputs": [
    {
     "data": {
      "text/html": [
       "<div>\n",
       "<style scoped>\n",
       "    .dataframe tbody tr th:only-of-type {\n",
       "        vertical-align: middle;\n",
       "    }\n",
       "\n",
       "    .dataframe tbody tr th {\n",
       "        vertical-align: top;\n",
       "    }\n",
       "\n",
       "    .dataframe thead th {\n",
       "        text-align: right;\n",
       "    }\n",
       "</style>\n",
       "<table border=\"1\" class=\"dataframe\">\n",
       "  <thead>\n",
       "    <tr style=\"text-align: right;\">\n",
       "      <th></th>\n",
       "      <th>City</th>\n",
       "      <th>Temperature (DegF)</th>\n",
       "      <th>Cloudiness(%)</th>\n",
       "      <th>Latitude</th>\n",
       "      <th>Longitude</th>\n",
       "      <th>Wind Speed (mps)</th>\n",
       "    </tr>\n",
       "  </thead>\n",
       "  <tbody>\n",
       "    <tr>\n",
       "      <th>0</th>\n",
       "      <td>Nikolskoye</td>\n",
       "      <td>289.58</td>\n",
       "      <td>0</td>\n",
       "      <td>59.70</td>\n",
       "      <td>30.79</td>\n",
       "      <td>2.00</td>\n",
       "    </tr>\n",
       "    <tr>\n",
       "      <th>1</th>\n",
       "      <td>Kaitangata</td>\n",
       "      <td>282.59</td>\n",
       "      <td>2</td>\n",
       "      <td>-46.28</td>\n",
       "      <td>169.85</td>\n",
       "      <td>0.43</td>\n",
       "    </tr>\n",
       "    <tr>\n",
       "      <th>2</th>\n",
       "      <td>Arraial do Cabo</td>\n",
       "      <td>296.40</td>\n",
       "      <td>45</td>\n",
       "      <td>-22.97</td>\n",
       "      <td>-42.03</td>\n",
       "      <td>3.76</td>\n",
       "    </tr>\n",
       "    <tr>\n",
       "      <th>3</th>\n",
       "      <td>Upernavik</td>\n",
       "      <td>272.29</td>\n",
       "      <td>4</td>\n",
       "      <td>72.79</td>\n",
       "      <td>-56.15</td>\n",
       "      <td>5.58</td>\n",
       "    </tr>\n",
       "    <tr>\n",
       "      <th>4</th>\n",
       "      <td>Walvis Bay</td>\n",
       "      <td>293.91</td>\n",
       "      <td>0</td>\n",
       "      <td>-22.96</td>\n",
       "      <td>14.51</td>\n",
       "      <td>11.30</td>\n",
       "    </tr>\n",
       "  </tbody>\n",
       "</table>\n",
       "</div>"
      ],
      "text/plain": [
       "              City  Temperature (DegF)  Cloudiness(%)  Latitude  Longitude  \\\n",
       "0       Nikolskoye              289.58              0     59.70      30.79   \n",
       "1       Kaitangata              282.59              2    -46.28     169.85   \n",
       "2  Arraial do Cabo              296.40             45    -22.97     -42.03   \n",
       "3        Upernavik              272.29              4     72.79     -56.15   \n",
       "4       Walvis Bay              293.91              0    -22.96      14.51   \n",
       "\n",
       "   Wind Speed (mps)  \n",
       "0              2.00  \n",
       "1              0.43  \n",
       "2              3.76  \n",
       "3              5.58  \n",
       "4             11.30  "
      ]
     },
     "execution_count": 91,
     "metadata": {},
     "output_type": "execute_result"
    }
   ],
   "source": [
    "# Create a dataframe from the collected data\n",
    "weather_df = pd.DataFrame({'City': city_list,\n",
    "                           'Temperature (DegF)': temp_list,\n",
    "                           'Cloudiness(%)': cloud_list,\n",
    "                           'Latitude': lat_list,\n",
    "                           'Longitude': long_list,\n",
    "                           'Wind Speed (mps)': wind_list})\n",
    "weather_df.head()"
   ]
  },
  {
   "cell_type": "code",
   "execution_count": 92,
   "metadata": {},
   "outputs": [
    {
     "data": {
      "text/html": [
       "<div>\n",
       "<style scoped>\n",
       "    .dataframe tbody tr th:only-of-type {\n",
       "        vertical-align: middle;\n",
       "    }\n",
       "\n",
       "    .dataframe tbody tr th {\n",
       "        vertical-align: top;\n",
       "    }\n",
       "\n",
       "    .dataframe thead th {\n",
       "        text-align: right;\n",
       "    }\n",
       "</style>\n",
       "<table border=\"1\" class=\"dataframe\">\n",
       "  <thead>\n",
       "    <tr style=\"text-align: right;\">\n",
       "      <th></th>\n",
       "      <th>City</th>\n",
       "      <th>Temperature (DegF)</th>\n",
       "      <th>Cloudiness(%)</th>\n",
       "      <th>Latitude</th>\n",
       "      <th>Longitude</th>\n",
       "      <th>Wind Speed (mps)</th>\n",
       "    </tr>\n",
       "  </thead>\n",
       "  <tbody>\n",
       "    <tr>\n",
       "      <th>0</th>\n",
       "      <td>Nikolskoye</td>\n",
       "      <td>289.58</td>\n",
       "      <td>0</td>\n",
       "      <td>59.70</td>\n",
       "      <td>30.79</td>\n",
       "      <td>2.00</td>\n",
       "    </tr>\n",
       "    <tr>\n",
       "      <th>3</th>\n",
       "      <td>Upernavik</td>\n",
       "      <td>272.29</td>\n",
       "      <td>4</td>\n",
       "      <td>72.79</td>\n",
       "      <td>-56.15</td>\n",
       "      <td>5.58</td>\n",
       "    </tr>\n",
       "    <tr>\n",
       "      <th>7</th>\n",
       "      <td>Abū Zabad</td>\n",
       "      <td>301.57</td>\n",
       "      <td>29</td>\n",
       "      <td>12.35</td>\n",
       "      <td>29.25</td>\n",
       "      <td>5.67</td>\n",
       "    </tr>\n",
       "    <tr>\n",
       "      <th>11</th>\n",
       "      <td>Barrow</td>\n",
       "      <td>279.15</td>\n",
       "      <td>1</td>\n",
       "      <td>71.29</td>\n",
       "      <td>-156.79</td>\n",
       "      <td>2.10</td>\n",
       "    </tr>\n",
       "    <tr>\n",
       "      <th>12</th>\n",
       "      <td>Nishihara</td>\n",
       "      <td>304.54</td>\n",
       "      <td>20</td>\n",
       "      <td>26.18</td>\n",
       "      <td>127.76</td>\n",
       "      <td>6.70</td>\n",
       "    </tr>\n",
       "  </tbody>\n",
       "</table>\n",
       "</div>"
      ],
      "text/plain": [
       "          City  Temperature (DegF)  Cloudiness(%)  Latitude  Longitude  \\\n",
       "0   Nikolskoye              289.58              0     59.70      30.79   \n",
       "3    Upernavik              272.29              4     72.79     -56.15   \n",
       "7    Abū Zabad              301.57             29     12.35      29.25   \n",
       "11      Barrow              279.15              1     71.29    -156.79   \n",
       "12   Nishihara              304.54             20     26.18     127.76   \n",
       "\n",
       "    Wind Speed (mps)  \n",
       "0               2.00  \n",
       "3               5.58  \n",
       "7               5.67  \n",
       "11              2.10  \n",
       "12              6.70  "
      ]
     },
     "execution_count": 92,
     "metadata": {},
     "output_type": "execute_result"
    }
   ],
   "source": [
    "northern_weather_df = weather_df.loc[weather_df['Latitude'] >= 0]\n",
    "northern_weather_df.head()"
   ]
  },
  {
   "cell_type": "code",
   "execution_count": 93,
   "metadata": {},
   "outputs": [
    {
     "data": {
      "text/html": [
       "<div>\n",
       "<style scoped>\n",
       "    .dataframe tbody tr th:only-of-type {\n",
       "        vertical-align: middle;\n",
       "    }\n",
       "\n",
       "    .dataframe tbody tr th {\n",
       "        vertical-align: top;\n",
       "    }\n",
       "\n",
       "    .dataframe thead th {\n",
       "        text-align: right;\n",
       "    }\n",
       "</style>\n",
       "<table border=\"1\" class=\"dataframe\">\n",
       "  <thead>\n",
       "    <tr style=\"text-align: right;\">\n",
       "      <th></th>\n",
       "      <th>City</th>\n",
       "      <th>Temperature (DegF)</th>\n",
       "      <th>Cloudiness(%)</th>\n",
       "      <th>Latitude</th>\n",
       "      <th>Longitude</th>\n",
       "      <th>Wind Speed (mps)</th>\n",
       "    </tr>\n",
       "  </thead>\n",
       "  <tbody>\n",
       "    <tr>\n",
       "      <th>2</th>\n",
       "      <td>Arraial do Cabo</td>\n",
       "      <td>296.40</td>\n",
       "      <td>45</td>\n",
       "      <td>-22.97</td>\n",
       "      <td>-42.03</td>\n",
       "      <td>3.76</td>\n",
       "    </tr>\n",
       "    <tr>\n",
       "      <th>3</th>\n",
       "      <td>Upernavik</td>\n",
       "      <td>272.29</td>\n",
       "      <td>4</td>\n",
       "      <td>72.79</td>\n",
       "      <td>-56.15</td>\n",
       "      <td>5.58</td>\n",
       "    </tr>\n",
       "    <tr>\n",
       "      <th>6</th>\n",
       "      <td>Coquimbo</td>\n",
       "      <td>283.15</td>\n",
       "      <td>0</td>\n",
       "      <td>-29.95</td>\n",
       "      <td>-71.34</td>\n",
       "      <td>4.10</td>\n",
       "    </tr>\n",
       "    <tr>\n",
       "      <th>10</th>\n",
       "      <td>Punta Arenas</td>\n",
       "      <td>273.15</td>\n",
       "      <td>69</td>\n",
       "      <td>-53.15</td>\n",
       "      <td>-70.92</td>\n",
       "      <td>5.10</td>\n",
       "    </tr>\n",
       "    <tr>\n",
       "      <th>11</th>\n",
       "      <td>Barrow</td>\n",
       "      <td>279.15</td>\n",
       "      <td>1</td>\n",
       "      <td>71.29</td>\n",
       "      <td>-156.79</td>\n",
       "      <td>2.10</td>\n",
       "    </tr>\n",
       "  </tbody>\n",
       "</table>\n",
       "</div>"
      ],
      "text/plain": [
       "               City  Temperature (DegF)  Cloudiness(%)  Latitude  Longitude  \\\n",
       "2   Arraial do Cabo              296.40             45    -22.97     -42.03   \n",
       "3         Upernavik              272.29              4     72.79     -56.15   \n",
       "6          Coquimbo              283.15              0    -29.95     -71.34   \n",
       "10     Punta Arenas              273.15             69    -53.15     -70.92   \n",
       "11           Barrow              279.15              1     71.29    -156.79   \n",
       "\n",
       "    Wind Speed (mps)  \n",
       "2               3.76  \n",
       "3               5.58  \n",
       "6               4.10  \n",
       "10              5.10  \n",
       "11              2.10  "
      ]
     },
     "execution_count": 93,
     "metadata": {},
     "output_type": "execute_result"
    }
   ],
   "source": [
    "southern_weather_df = weather_df.loc[weather_df['Longitude'] < 0]\n",
    "southern_weather_df.head()"
   ]
  },
  {
   "cell_type": "code",
   "execution_count": 94,
   "metadata": {},
   "outputs": [
    {
     "name": "stdout",
     "output_type": "stream",
     "text": [
      "0     289.58\n",
      "3     272.29\n",
      "7     301.57\n",
      "11    279.15\n",
      "12    304.54\n",
      "Name: Temperature (DegF), dtype: float64\n"
     ]
    }
   ],
   "source": [
    "# Extract column data to use for a scatter plot\n",
    "temp_north = northern_weather_df['Temperature (DegF)']\n",
    "print(temp_north[:5])"
   ]
  },
  {
   "cell_type": "code",
   "execution_count": 95,
   "metadata": {},
   "outputs": [
    {
     "data": {
      "text/plain": [
       "0     59.70\n",
       "3     72.79\n",
       "7     12.35\n",
       "11    71.29\n",
       "12    26.18\n",
       "Name: Latitude, dtype: float64"
      ]
     },
     "execution_count": 95,
     "metadata": {},
     "output_type": "execute_result"
    }
   ],
   "source": [
    "lat_north = northern_weather_df['Latitude']\n",
    "lat_north[:5]"
   ]
  },
  {
   "cell_type": "code",
   "execution_count": 96,
   "metadata": {},
   "outputs": [
    {
     "data": {
      "image/png": "[encoded data removed]",
      "text/plain": [
       "<Figure size 432x288 with 1 Axes>"
      ]
     },
     "metadata": {
      "needs_background": "light"
     },
     "output_type": "display_data"
    },
    {
     "name": "stdout",
     "output_type": "stream",
     "text": [
      "Pearson's correlation for the southern hemisphere is -0.74\n"
     ]
    }
   ],
   "source": [
    "plt.scatter(temp_north, lat_north)\n",
    "plt.title(\"Northern hemisphere - Temperature vs. Latitude\")\n",
    "plt.xlabel(\"Temperature, DegF\")\n",
    "plt.ylabel(\"Latitude\")\n",
    "m, b = np.polyfit(temp_north, lat_north, 1)\n",
    "plt.plot(temp_north, m*temp_north + b)\n",
    "plt.show()\n",
    "# Identify Pearson value\n",
    "print(f\"Pearson's correlation for the southern hemisphere is {round(sts.pearsonr(temp_north, lat_north)[0],2)}\")"
   ]
  },
  {
   "cell_type": "code",
   "execution_count": 101,
   "metadata": {},
   "outputs": [
    {
     "name": "stdout",
     "output_type": "stream",
     "text": [
      "2     296.40\n",
      "3     272.29\n",
      "6     283.15\n",
      "10    273.15\n",
      "11    279.15\n",
      "Name: Temperature (DegF), dtype: float64\n"
     ]
    }
   ],
   "source": [
    "temp_south = southern_weather_df['Temperature (DegF)']\n",
    "print(temp_south[:5])"
   ]
  },
  {
   "cell_type": "code",
   "execution_count": 104,
   "metadata": {},
   "outputs": [
    {
     "name": "stdout",
     "output_type": "stream",
     "text": [
      "2    -22.97\n",
      "3     72.79\n",
      "6    -29.95\n",
      "10   -53.15\n",
      "11    71.29\n",
      "Name: Latitude, dtype: float64\n"
     ]
    }
   ],
   "source": [
    "lat_south = southern_weather_df['Latitude']\n",
    "print(lat_south[:5])"
   ]
  },
  {
   "cell_type": "code",
   "execution_count": 105,
   "metadata": {},
   "outputs": [
    {
     "data": {
      "image/png": "[encoded data removed]",
      "text/plain": [
       "<Figure size 432x288 with 1 Axes>"
      ]
     },
     "metadata": {
      "needs_background": "light"
     },
     "output_type": "display_data"
    }
   ],
   "source": [
    "plt.scatter(temp_south, lat_south)\n",
    "plt.title(\"Southern hemisphere - Temperature vs. Latitude\")\n",
    "plt.xlabel(\"Temperature, DegF\")\n",
    "plt.ylabel(\"Latitude\")\n",
    "n, c = np.polyfit(temp_south, lat_south, 1)\n",
    "plt.plot(temp_south, n*temp_south + c)\n",
    "plt.show()\n",
    "# Identify Pearson value\n",
    "#print(f\"Pearson's correlation for the Southern hemisphere is {round(sts.pearsonr(temp_south, lat_south)[0],2)}\")"
   ]
  },
  {
   "cell_type": "code",
   "execution_count": 80,
   "metadata": {},
   "outputs": [
    {
     "name": "stdout",
     "output_type": "stream",
     "text": [
      "2     296.40\n",
      "3     272.29\n",
      "6     283.15\n",
      "10    273.15\n",
      "11    279.15\n",
      "Name: Temperature (DegF), dtype: float64\n"
     ]
    }
   ],
   "source": []
  },
  {
   "cell_type": "code",
   "execution_count": null,
   "metadata": {},
   "outputs": [],
   "source": []
  }
 ],
 "metadata": {
  "kernelspec": {
   "display_name": "Python [conda env:PythonData] *",
   "language": "python",
   "name": "conda-env-PythonData-py"
  },
  "language_info": {
   "codemirror_mode": {
    "name": "ipython",
    "version": 3
   },
   "file_extension": ".py",
   "mimetype": "text/x-python",
   "name": "python",
   "nbconvert_exporter": "python",
   "pygments_lexer": "ipython3",
   "version": "3.8.3"
  }
 },
 "nbformat": 4,
 "nbformat_minor": 4
}

{
 "cells": [
  {
   "cell_type": "code",
   "execution_count": 24,
   "metadata": {},
   "outputs": [],
   "source": [
    "# Dependencies\n",
    "import os\n",
    "import csv\n",
    "import json\n",
    "import time\n",
    "import requests\n",
    "import pandas as pd\n",
    "import numpy as np\n",
    "from pprint import pprint\n",
    "from config import api_key\n",
    "from citipy import citipy\n",
    "import matplotlib.pyplot as plt\n",
    "\n",
    "output_dir = os.path.join(\"Images\",\"\")"
   ]
  },
  {
   "cell_type": "code",
   "execution_count": 25,
   "metadata": {},
   "outputs": [
    {
     "name": "stdout",
     "output_type": "stream",
     "text": [
      "First five are listed here: ['arraial do cabo', 'port alfred', 'belushya guba', 'busselton', 'berdsk']...\n",
      "There are 500 cities in the list.\n"
     ]
    }
   ],
   "source": [
    "## Create latitudes and cities lists variables and initialize them as empty lists\n",
    "cities = []\n",
    "# Generate a list of cities using a random function up to 1500 in size for scanning\n",
    "# Note: larger number of cities can be obtained with larger size, however for this task only about 500 are required\n",
    "latitude = np.random.uniform(low=-90.000, high=90.000, size=2000)\n",
    "longitude = np.random.uniform(low=-180.000, high=180.000, size=2000)\n",
    "\n",
    "latitudes_longitudes = zip(latitude, longitude)\n",
    "count_cities_500 = 0\n",
    "for latitude_longitude in latitudes_longitudes:\n",
    "    city = citipy.nearest_city(latitude_longitude[0], latitude_longitude[1]).city_name\n",
    "    # If city is not in cities, then append the city to the cities' list. Limit the city list to 500\n",
    "    if city not in cities:\n",
    "        if count_cities_500 < 500:\n",
    "            cities.append(city)\n",
    "            count_cities_500 += 1\n",
    "        else:\n",
    "            break\n",
    "    else:\n",
    "        continue\n",
    "print(f\"First five are listed here: {cities[:5]}...\")\n",
    "print(f\"There are {len(cities)} cities in the list.\")"
   ]
  },
  {
   "cell_type": "code",
   "execution_count": 34,
   "metadata": {},
   "outputs": [
    {
     "name": "stdout",
     "output_type": "stream",
     "text": [
      "City 'Belushya guba' was not found.\n",
      "[5.8, 7.7, 4.1, 1]\n"
     ]
    }
   ],
   "source": [
    "# url for weather api\n",
    "units = 'english'\n",
    "url   = \"http://api.openweathermap.org/data/2.5/weather?q=\"\n",
    "url2  = \"http://api.openweathermap.org/data/2.5/group?id=524901,703448,2643743&units=metric\"\n",
    "city_5_list = cities[:5]\n",
    "city_list   = []\n",
    "temp_list   = []\n",
    "lat_list    = []\n",
    "long_list   = []\n",
    "humid_list  = []\n",
    "cloud_list  = []\n",
    "wind_list   = []\n",
    "counter     = 0\n",
    "\n",
    "for city in city_5_list:\n",
    "    try:\n",
    "        query_test_url = f\"http://api.openweathermap.org/data/2.5/weather?q={city}&appid={api_key}\"\n",
    "        #print(query_test_url)\n",
    "        response = requests.get(query_test_url).json()\n",
    "        #print(response)\n",
    "        city_list.append(response[\"name\"])\n",
    "        temp_list.append(response[\"main\"][\"temp\"])\n",
    "        lat_list.append(response[\"coord\"][\"lat\"])\n",
    "        long_list.append(response[\"coord\"][\"lon\"])\n",
    "        humid_list.append(response[\"main\"][\"humidity\"])\n",
    "        cloud_list.append(response[\"clouds\"][\"all\"])\n",
    "        wind_list.append(response[\"wind\"][\"speed\"])\n",
    "#         if counter > 50:\n",
    "#             counter = 1\n",
    "#         else:\n",
    "#             counter += 1\n",
    "    except KeyError:\n",
    "        print(f\"City '{city.capitalize()}' was not found.\")\n",
    "print(wnd_list)"
   ]
  },
  {
   "cell_type": "code",
   "execution_count": 35,
   "metadata": {},
   "outputs": [
    {
     "data": {
      "text/html": [
       "<div>\n",
       "<style scoped>\n",
       "    .dataframe tbody tr th:only-of-type {\n",
       "        vertical-align: middle;\n",
       "    }\n",
       "\n",
       "    .dataframe tbody tr th {\n",
       "        vertical-align: top;\n",
       "    }\n",
       "\n",
       "    .dataframe thead th {\n",
       "        text-align: right;\n",
       "    }\n",
       "</style>\n",
       "<table border=\"1\" class=\"dataframe\">\n",
       "  <thead>\n",
       "    <tr style=\"text-align: right;\">\n",
       "      <th></th>\n",
       "      <th>City</th>\n",
       "      <th>Temperature</th>\n",
       "      <th>Cloudiness</th>\n",
       "      <th>Latitude</th>\n",
       "      <th>Longitude</th>\n",
       "      <th>Wind Speed</th>\n",
       "    </tr>\n",
       "  </thead>\n",
       "  <tbody>\n",
       "    <tr>\n",
       "      <th>0</th>\n",
       "      <td>Arraial do Cabo</td>\n",
       "      <td>296.57</td>\n",
       "      <td>32</td>\n",
       "      <td>-22.97</td>\n",
       "      <td>-42.03</td>\n",
       "      <td>4.20</td>\n",
       "    </tr>\n",
       "    <tr>\n",
       "      <th>1</th>\n",
       "      <td>Port Alfred</td>\n",
       "      <td>285.93</td>\n",
       "      <td>18</td>\n",
       "      <td>-33.59</td>\n",
       "      <td>26.89</td>\n",
       "      <td>2.24</td>\n",
       "    </tr>\n",
       "    <tr>\n",
       "      <th>2</th>\n",
       "      <td>Busselton</td>\n",
       "      <td>289.98</td>\n",
       "      <td>80</td>\n",
       "      <td>-33.65</td>\n",
       "      <td>115.33</td>\n",
       "      <td>6.71</td>\n",
       "    </tr>\n",
       "    <tr>\n",
       "      <th>3</th>\n",
       "      <td>Berdsk</td>\n",
       "      <td>294.15</td>\n",
       "      <td>40</td>\n",
       "      <td>54.76</td>\n",
       "      <td>83.10</td>\n",
       "      <td>6.00</td>\n",
       "    </tr>\n",
       "  </tbody>\n",
       "</table>\n",
       "</div>"
      ],
      "text/plain": [
       "              City  Temperature  Cloudiness  Latitude  Longitude  Wind Speed\n",
       "0  Arraial do Cabo       296.57          32    -22.97     -42.03        4.20\n",
       "1      Port Alfred       285.93          18    -33.59      26.89        2.24\n",
       "2        Busselton       289.98          80    -33.65     115.33        6.71\n",
       "3           Berdsk       294.15          40     54.76      83.10        6.00"
      ]
     },
     "execution_count": 35,
     "metadata": {},
     "output_type": "execute_result"
    }
   ],
   "source": [
    "# Create a dataframe from the collected data\n",
    "weather_df = pd.DataFrame({'City': city_list,\n",
    "                           'Temperature': temp_list,\n",
    "                           'Cloudiness': cloud_list,\n",
    "                           'Latitude': lat_list,\n",
    "                           'Longitude': long_list,\n",
    "                           'Wind Speed': wind_list})\n",
    "weather_df.head()"
   ]
  },
  {
   "cell_type": "code",
   "execution_count": null,
   "metadata": {},
   "outputs": [],
   "source": []
  },
  {
   "cell_type": "code",
   "execution_count": null,
   "metadata": {},
   "outputs": [],
   "source": []
  },
  {
   "cell_type": "code",
   "execution_count": null,
   "metadata": {},
   "outputs": [],
   "source": []
  },
  {
   "cell_type": "code",
   "execution_count": null,
   "metadata": {},
   "outputs": [],
   "source": []
  },
  {
   "cell_type": "code",
   "execution_count": null,
   "metadata": {},
   "outputs": [],
   "source": []
  },
  {
   "cell_type": "code",
   "execution_count": null,
   "metadata": {},
   "outputs": [],
   "source": []
  },
  {
   "cell_type": "code",
   "execution_count": null,
   "metadata": {},
   "outputs": [],
   "source": []
  },
  {
   "cell_type": "code",
   "execution_count": null,
   "metadata": {},
   "outputs": [],
   "source": []
  },
  {
   "cell_type": "code",
   "execution_count": null,
   "metadata": {},
   "outputs": [],
   "source": []
  }
 ],
 "metadata": {
  "kernelspec": {
   "display_name": "Python [conda env:PythonData] *",
   "language": "python",
   "name": "conda-env-PythonData-py"
  },
  "language_info": {
   "codemirror_mode": {
    "name": "ipython",
    "version": 3
   },
   "file_extension": ".py",
   "mimetype": "text/x-python",
   "name": "python",
   "nbconvert_exporter": "python",
   "pygments_lexer": "ipython3",
   "version": "3.8.3"
  }
 },
 "nbformat": 4,
 "nbformat_minor": 4
}
